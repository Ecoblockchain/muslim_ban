{
 "cells": [
  {
   "cell_type": "code",
   "execution_count": 12,
   "metadata": {
    "collapsed": false
   },
   "outputs": [],
   "source": [
    "from datetime import datetime\n",
    "import pandas as pd"
   ]
  },
  {
   "cell_type": "code",
   "execution_count": 13,
   "metadata": {
    "collapsed": false,
    "scrolled": false
   },
   "outputs": [
    {
     "name": "stdout",
     "output_type": "stream",
     "text": [
      "(43789, 5)\n"
     ]
    },
    {
     "data": {
      "text/html": [
       "<div>\n",
       "<table border=\"1\" class=\"dataframe\">\n",
       "  <thead>\n",
       "    <tr style=\"text-align: right;\">\n",
       "      <th></th>\n",
       "      <th>user</th>\n",
       "      <th>datetime</th>\n",
       "      <th>text</th>\n",
       "      <th>id</th>\n",
       "      <th>entities</th>\n",
       "    </tr>\n",
       "  </thead>\n",
       "  <tbody>\n",
       "    <tr>\n",
       "      <th>0</th>\n",
       "      <td>realDonaldTrump</td>\n",
       "      <td>2015-01-07 21:42:11 UTC</td>\n",
       "      <td>Via @TheYBF: “@msvivicafox Attends A Private S...</td>\n",
       "      <td>https://twitter.com/statuses/552943302518272000</td>\n",
       "      <td>http://theybf.com/2015/01/06/the-apprentices-c...</td>\n",
       "    </tr>\n",
       "    <tr>\n",
       "      <th>1</th>\n",
       "      <td>realDonaldTrump</td>\n",
       "      <td>2015-01-07 21:55:38 UTC</td>\n",
       "      <td>My condolences and prayers to the victims of t...</td>\n",
       "      <td>https://twitter.com/statuses/552946688558907393</td>\n",
       "      <td>NaN</td>\n",
       "    </tr>\n",
       "  </tbody>\n",
       "</table>\n",
       "</div>"
      ],
      "text/plain": [
       "              user                 datetime  \\\n",
       "0  realDonaldTrump  2015-01-07 21:42:11 UTC   \n",
       "1  realDonaldTrump  2015-01-07 21:55:38 UTC   \n",
       "\n",
       "                                                text  \\\n",
       "0  Via @TheYBF: “@msvivicafox Attends A Private S...   \n",
       "1  My condolences and prayers to the victims of t...   \n",
       "\n",
       "                                                id  \\\n",
       "0  https://twitter.com/statuses/552943302518272000   \n",
       "1  https://twitter.com/statuses/552946688558907393   \n",
       "\n",
       "                                            entities  \n",
       "0  http://theybf.com/2015/01/06/the-apprentices-c...  \n",
       "1                                                NaN  "
      ]
     },
     "execution_count": 13,
     "metadata": {},
     "output_type": "execute_result"
    }
   ],
   "source": [
    "# INPUT                                                                                                                                     \n",
    "all_tweets = 'tweets/all_tweets.csv' \n",
    "url_by_id = 'https://twitter.com/statuses/'\n",
    "df = pd.read_csv(all_tweets) \n",
    "df['id'] = url_by_id + df['id'].astype(str)\n",
    "\n",
    "print(df.shape)\n",
    "df.head(2)"
   ]
  },
  {
   "cell_type": "code",
   "execution_count": 14,
   "metadata": {
    "collapsed": false,
    "scrolled": false
   },
   "outputs": [],
   "source": [
    "pres = [\n",
    "    'realDonaldTrump', 'POTUS',\n",
    "]\n",
    "\n",
    "gov = [ \n",
    "    'WhiteHouse', 'PressSec', 'RudyGiuliani', 'StephenBannon', 'jeffsessions', 'KellyannePolls',      \n",
    "    'GenFlynn', \n",
    "]\n",
    "news = [\n",
    "    'NBCNews', 'CNN', 'cnnbrk', 'FoxNews', 'AP', 'nytimes', 'BreitbartNews', 'guardian',                           \n",
    "]\n",
    "\n",
    "\n",
    "def organize(df, users):\n",
    "    # get certain groups\n",
    "    df_new = df.copy()\n",
    "    df_new = df_new[ df_new['user'].isin(users) ]\n",
    "    \n",
    "    # reindex\n",
    "    df_new.index = range(df_new.shape[0])   \n",
    "    \n",
    "    # sort by date\n",
    "    df_new.iloc[:,1] = pd.to_datetime(df_new['datetime'], format='%Y-%m-%d %H:%M:%S %Z' )\n",
    "    df_new = df_new.sort_values(by='datetime', ascending=False)\n",
    "    \n",
    "    # sort by user\n",
    "    df_n = pd.DataFrame()\n",
    "    for group_name, df_g in df_new.groupby(['user']):\n",
    "        df_n = df_n.append(df_g, ignore_index=True)\n",
    "    \n",
    "    # reindex\n",
    "    df_n.index = range(df_n.shape[0])\n",
    "    \n",
    "    return df_n\n",
    "\n",
    "df_pres = organize(df, pres)\n",
    "df_gov  = organize(df, gov)\n",
    "df_news = organize(df, news)"
   ]
  },
  {
   "cell_type": "code",
   "execution_count": 15,
   "metadata": {
    "collapsed": false,
    "scrolled": false
   },
   "outputs": [
    {
     "name": "stdout",
     "output_type": "stream",
     "text": [
      "(444, 5)\n"
     ]
    },
    {
     "data": {
      "text/html": [
       "<div>\n",
       "<table border=\"1\" class=\"dataframe\">\n",
       "  <thead>\n",
       "    <tr style=\"text-align: right;\">\n",
       "      <th></th>\n",
       "      <th>user</th>\n",
       "      <th>datetime</th>\n",
       "      <th>text</th>\n",
       "      <th>id</th>\n",
       "      <th>entities</th>\n",
       "    </tr>\n",
       "  </thead>\n",
       "  <tbody>\n",
       "    <tr>\n",
       "      <th>0</th>\n",
       "      <td>POTUS</td>\n",
       "      <td>2017-03-01 02:41:32</td>\n",
       "      <td>Obamacare is collapsing – and we must act deci...</td>\n",
       "      <td>https://twitter.com/statuses/836768336163799040</td>\n",
       "      <td>NaN</td>\n",
       "    </tr>\n",
       "    <tr>\n",
       "      <th>1</th>\n",
       "      <td>POTUS</td>\n",
       "      <td>2017-03-01 02:31:45</td>\n",
       "      <td>My team is developing historic tax reform that...</td>\n",
       "      <td>https://twitter.com/statuses/836765872991633408</td>\n",
       "      <td>NaN</td>\n",
       "    </tr>\n",
       "    <tr>\n",
       "      <th>2</th>\n",
       "      <td>POTUS</td>\n",
       "      <td>2017-02-26 18:45:40</td>\n",
       "      <td>Russia talk is FAKE NEWS put out by the Dems, ...</td>\n",
       "      <td>https://twitter.com/statuses/835923804983603202</td>\n",
       "      <td>NaN</td>\n",
       "    </tr>\n",
       "  </tbody>\n",
       "</table>\n",
       "</div>"
      ],
      "text/plain": [
       "    user            datetime  \\\n",
       "0  POTUS 2017-03-01 02:41:32   \n",
       "1  POTUS 2017-03-01 02:31:45   \n",
       "2  POTUS 2017-02-26 18:45:40   \n",
       "\n",
       "                                                text  \\\n",
       "0  Obamacare is collapsing – and we must act deci...   \n",
       "1  My team is developing historic tax reform that...   \n",
       "2  Russia talk is FAKE NEWS put out by the Dems, ...   \n",
       "\n",
       "                                                id entities  \n",
       "0  https://twitter.com/statuses/836768336163799040      NaN  \n",
       "1  https://twitter.com/statuses/836765872991633408      NaN  \n",
       "2  https://twitter.com/statuses/835923804983603202      NaN  "
      ]
     },
     "execution_count": 15,
     "metadata": {},
     "output_type": "execute_result"
    }
   ],
   "source": [
    "print(df_pres.shape)\n",
    "df_pres.head(3)"
   ]
  },
  {
   "cell_type": "markdown",
   "metadata": {},
   "source": [
    "# Selected Tweets"
   ]
  },
  {
   "cell_type": "code",
   "execution_count": 16,
   "metadata": {
    "collapsed": false,
    "scrolled": true
   },
   "outputs": [
    {
     "data": {
      "text/plain": [
       "'ban|islam|isis|mosque|muslim|radical|refugee|register|registry|religion|religious|terror|executive|order|immigrant'"
      ]
     },
     "execution_count": 16,
     "metadata": {},
     "output_type": "execute_result"
    }
   ],
   "source": [
    "keywords = ['ban', 'Islam', 'Islamic', 'ISIS', 'mosque', 'muslim', 'muslims', 'radical', 'refugee', \n",
    "            'register', 'registry', 'religion', 'religious', 'terror']\n",
    "\n",
    "keywords = ['ban', 'Islam', 'ISIS', 'mosque', 'muslim', 'radical', 'refugee', \n",
    "            'register', 'registry', 'religion', 'religious', 'terror',\n",
    "            'executive', 'order', 'immigrant',\n",
    "           ]\n",
    "\n",
    "keywords = [k.lower() for k in keywords]\n",
    "pattern = '|'.join(keywords)\n",
    "pattern"
   ]
  },
  {
   "cell_type": "code",
   "execution_count": 17,
   "metadata": {
    "collapsed": false
   },
   "outputs": [
    {
     "name": "stdout",
     "output_type": "stream",
     "text": [
      "(309, 5)\n"
     ]
    },
    {
     "data": {
      "text/html": [
       "<div>\n",
       "<table border=\"1\" class=\"dataframe\">\n",
       "  <thead>\n",
       "    <tr style=\"text-align: right;\">\n",
       "      <th></th>\n",
       "      <th>user</th>\n",
       "      <th>datetime</th>\n",
       "      <th>text</th>\n",
       "      <th>id</th>\n",
       "      <th>entities</th>\n",
       "    </tr>\n",
       "  </thead>\n",
       "  <tbody>\n",
       "    <tr>\n",
       "      <th>0</th>\n",
       "      <td>POTUS</td>\n",
       "      <td>2017-02-26 18:45:40</td>\n",
       "      <td>Russia talk is FAKE NEWS put out by the Dems, ...</td>\n",
       "      <td>https://twitter.com/statuses/835923804983603202</td>\n",
       "      <td>NaN</td>\n",
       "    </tr>\n",
       "    <tr>\n",
       "      <th>1</th>\n",
       "      <td>POTUS</td>\n",
       "      <td>2017-02-24 19:46:14</td>\n",
       "      <td>This afternoon I signed an executive order to ...</td>\n",
       "      <td>https://twitter.com/statuses/835214271453806592</td>\n",
       "      <td>https://twitter.com/i/web/status/8352142714538...</td>\n",
       "    </tr>\n",
       "    <tr>\n",
       "      <th>2</th>\n",
       "      <td>POTUS</td>\n",
       "      <td>2017-02-03 19:13:44</td>\n",
       "      <td>Remarks by President Trump at Signing of Execu...</td>\n",
       "      <td>https://twitter.com/statuses/827595948469673986</td>\n",
       "      <td>https://www.whitehouse.gov/the-press-office/20...</td>\n",
       "    </tr>\n",
       "  </tbody>\n",
       "</table>\n",
       "</div>"
      ],
      "text/plain": [
       "    user            datetime  \\\n",
       "0  POTUS 2017-02-26 18:45:40   \n",
       "1  POTUS 2017-02-24 19:46:14   \n",
       "2  POTUS 2017-02-03 19:13:44   \n",
       "\n",
       "                                                text  \\\n",
       "0  Russia talk is FAKE NEWS put out by the Dems, ...   \n",
       "1  This afternoon I signed an executive order to ...   \n",
       "2  Remarks by President Trump at Signing of Execu...   \n",
       "\n",
       "                                                id  \\\n",
       "0  https://twitter.com/statuses/835923804983603202   \n",
       "1  https://twitter.com/statuses/835214271453806592   \n",
       "2  https://twitter.com/statuses/827595948469673986   \n",
       "\n",
       "                                            entities  \n",
       "0                                                NaN  \n",
       "1  https://twitter.com/i/web/status/8352142714538...  \n",
       "2  https://www.whitehouse.gov/the-press-office/20...  "
      ]
     },
     "execution_count": 17,
     "metadata": {},
     "output_type": "execute_result"
    }
   ],
   "source": [
    "# get certain groups\n",
    "df1 = df_pres[ df_pres.text.str.lower().str.contains(pattern) ]\n",
    "    \n",
    "# reindex\n",
    "df1.index = range(df1.shape[0])   \n",
    "\n",
    "# write                                                                                            \n",
    "df1.to_csv('president_tweets.csv', mode='w', index=False)\n",
    "print(df1.shape)\n",
    "df1.head(3)"
   ]
  },
  {
   "cell_type": "code",
   "execution_count": 18,
   "metadata": {
    "collapsed": false,
    "scrolled": true
   },
   "outputs": [
    {
     "name": "stdout",
     "output_type": "stream",
     "text": [
      "(144, 5)\n"
     ]
    },
    {
     "data": {
      "text/html": [
       "<div>\n",
       "<table border=\"1\" class=\"dataframe\">\n",
       "  <thead>\n",
       "    <tr style=\"text-align: right;\">\n",
       "      <th></th>\n",
       "      <th>user</th>\n",
       "      <th>datetime</th>\n",
       "      <th>text</th>\n",
       "      <th>id</th>\n",
       "      <th>entities</th>\n",
       "    </tr>\n",
       "  </thead>\n",
       "  <tbody>\n",
       "    <tr>\n",
       "      <th>0</th>\n",
       "      <td>GenFlynn</td>\n",
       "      <td>2016-11-06 03:28:40</td>\n",
       "      <td>This wasn't workplace violence. This was a rad...</td>\n",
       "      <td>https://twitter.com/statuses/795105595485523968</td>\n",
       "      <td>https://twitter.com/i/web/status/7951055954855...</td>\n",
       "    </tr>\n",
       "    <tr>\n",
       "      <th>1</th>\n",
       "      <td>GenFlynn</td>\n",
       "      <td>2016-11-02 21:52:23</td>\n",
       "      <td>After Mosul is liberated, ISIS could attack US...</td>\n",
       "      <td>https://twitter.com/statuses/793933801315561473</td>\n",
       "      <td>http://fxn.ws/2fFhvWL</td>\n",
       "    </tr>\n",
       "    <tr>\n",
       "      <th>2</th>\n",
       "      <td>GenFlynn</td>\n",
       "      <td>2016-10-04 23:41:10</td>\n",
       "      <td>Leaked FBI Data Reveal 7,700 Terrorist Encount...</td>\n",
       "      <td>https://twitter.com/statuses/783451928697057284</td>\n",
       "      <td>http://www.breitbart.com/texas/2016/09/26/leak...</td>\n",
       "    </tr>\n",
       "  </tbody>\n",
       "</table>\n",
       "</div>"
      ],
      "text/plain": [
       "       user            datetime  \\\n",
       "0  GenFlynn 2016-11-06 03:28:40   \n",
       "1  GenFlynn 2016-11-02 21:52:23   \n",
       "2  GenFlynn 2016-10-04 23:41:10   \n",
       "\n",
       "                                                text  \\\n",
       "0  This wasn't workplace violence. This was a rad...   \n",
       "1  After Mosul is liberated, ISIS could attack US...   \n",
       "2  Leaked FBI Data Reveal 7,700 Terrorist Encount...   \n",
       "\n",
       "                                                id  \\\n",
       "0  https://twitter.com/statuses/795105595485523968   \n",
       "1  https://twitter.com/statuses/793933801315561473   \n",
       "2  https://twitter.com/statuses/783451928697057284   \n",
       "\n",
       "                                            entities  \n",
       "0  https://twitter.com/i/web/status/7951055954855...  \n",
       "1                              http://fxn.ws/2fFhvWL  \n",
       "2  http://www.breitbart.com/texas/2016/09/26/leak...  "
      ]
     },
     "execution_count": 18,
     "metadata": {},
     "output_type": "execute_result"
    }
   ],
   "source": [
    "# get certain groups\n",
    "df2 = df_gov[ df_gov.text.str.lower().str.contains(pattern) ]\n",
    "    \n",
    "# reindex\n",
    "df2.index = range(df2.shape[0])   \n",
    "\n",
    "# write                                                                                           \n",
    "df2.to_csv('administration_tweets.csv', mode='w', index=False)\n",
    "print(df2.shape)\n",
    "df2.head(3)"
   ]
  },
  {
   "cell_type": "code",
   "execution_count": 8,
   "metadata": {
    "collapsed": false,
    "scrolled": true
   },
   "outputs": [
    {
     "name": "stdout",
     "output_type": "stream",
     "text": [
      "(29111, 5)\n"
     ]
    },
    {
     "data": {
      "text/html": [
       "<div>\n",
       "<table border=\"1\" class=\"dataframe\">\n",
       "  <thead>\n",
       "    <tr style=\"text-align: right;\">\n",
       "      <th></th>\n",
       "      <th>user</th>\n",
       "      <th>datetime</th>\n",
       "      <th>text</th>\n",
       "      <th>id</th>\n",
       "      <th>entities</th>\n",
       "    </tr>\n",
       "  </thead>\n",
       "  <tbody>\n",
       "    <tr>\n",
       "      <th>0</th>\n",
       "      <td>AP</td>\n",
       "      <td>2017-03-11 01:26:09</td>\n",
       "      <td>Turkey aims to repair its image in West by jus...</td>\n",
       "      <td>https://twitter.com/statuses/840373244360314880</td>\n",
       "      <td>http://apne.ws/2mtNN7E</td>\n",
       "    </tr>\n",
       "    <tr>\n",
       "      <th>1</th>\n",
       "      <td>AP</td>\n",
       "      <td>2017-03-10 23:27:02</td>\n",
       "      <td>Calif. man pleads guilty to stabbing US airman...</td>\n",
       "      <td>https://twitter.com/statuses/840343267921281024</td>\n",
       "      <td>http://apne.ws/2mc4u6o</td>\n",
       "    </tr>\n",
       "    <tr>\n",
       "      <th>2</th>\n",
       "      <td>AP</td>\n",
       "      <td>2017-03-10 06:30:12</td>\n",
       "      <td>VIDEO: Amal Clooney urges Iraq, world's nation...</td>\n",
       "      <td>https://twitter.com/statuses/840087372578471936</td>\n",
       "      <td>http://apne.ws/2lJGImj</td>\n",
       "    </tr>\n",
       "  </tbody>\n",
       "</table>\n",
       "</div>"
      ],
      "text/plain": [
       "  user            datetime                                               text  \\\n",
       "0   AP 2017-03-11 01:26:09  Turkey aims to repair its image in West by jus...   \n",
       "1   AP 2017-03-10 23:27:02  Calif. man pleads guilty to stabbing US airman...   \n",
       "2   AP 2017-03-10 06:30:12  VIDEO: Amal Clooney urges Iraq, world's nation...   \n",
       "\n",
       "                                                id                entities  \n",
       "0  https://twitter.com/statuses/840373244360314880  http://apne.ws/2mtNN7E  \n",
       "1  https://twitter.com/statuses/840343267921281024  http://apne.ws/2mc4u6o  \n",
       "2  https://twitter.com/statuses/840087372578471936  http://apne.ws/2lJGImj  "
      ]
     },
     "execution_count": 8,
     "metadata": {},
     "output_type": "execute_result"
    }
   ],
   "source": [
    "# get certain groups\n",
    "df3 = df_news[ df_news.text.str.lower().str.contains(pattern) ]\n",
    "    \n",
    "# reindex\n",
    "df3.index = range(df3.shape[0])   \n",
    "\n",
    "print(df3.shape)\n",
    "df3.head(3)"
   ]
  },
  {
   "cell_type": "markdown",
   "metadata": {},
   "source": [
    "# Analysis"
   ]
  },
  {
   "cell_type": "code",
   "execution_count": 9,
   "metadata": {
    "collapsed": true
   },
   "outputs": [],
   "source": [
    "import nltk\n",
    "from nltk.corpus import stopwords\n",
    "from nltk.probability import FreqDist\n",
    "from nltk.tokenize import TweetTokenizer\n",
    "from nltk.tokenize import RegexpTokenizer\n",
    "\n",
    "stop = stopwords.words('english') \n",
    "tweet_tokenizer = TweetTokenizer()\n",
    "word_tokenizer = RegexpTokenizer(r'\\w+')"
   ]
  },
  {
   "cell_type": "code",
   "execution_count": 10,
   "metadata": {
    "collapsed": false
   },
   "outputs": [],
   "source": [
    "stop.extend(['.', ',', '?', '!', '\\'','’', '\"',':', ';', '-','/', '\\\\', '(', ')', '#', '&', 'U','S','A'] )\n",
    "corpus = df1['text'].values\n",
    "corpus = ' '.join(corpus)\n",
    "corpus = corpus.lower()\n",
    "all_tokens = tweet_tokenizer.tokenize(corpus)\n",
    "all_tokens = [w for w in all_tokens if w not in stop]\n",
    "\n",
    "fdist = nltk.FreqDist(all_tokens)"
   ]
  },
  {
   "cell_type": "code",
   "execution_count": 11,
   "metadata": {
    "collapsed": false
   },
   "outputs": [
    {
     "data": {
      "text/plain": [
       "[('isis', 89),\n",
       " ('order', 64),\n",
       " ('hillary', 54),\n",
       " ('trump', 35),\n",
       " ('radical', 32),\n",
       " ('obama', 30),\n",
       " ('islamic', 28),\n",
       " ('people', 28),\n",
       " ('country', 26),\n",
       " ('great', 26),\n",
       " ('get', 25),\n",
       " ('president', 24),\n",
       " ('terrorism', 24),\n",
       " ('terrorists', 24),\n",
       " ('america', 23),\n",
       " ('terrorist', 20),\n",
       " ('@realdonaldtrump', 20),\n",
       " ('terror', 19),\n",
       " ('must', 19),\n",
       " ('crooked', 19),\n",
       " ('executive', 18),\n",
       " ('signing', 18),\n",
       " ('going', 18),\n",
       " ('time', 18),\n",
       " ('clinton', 18)]"
      ]
     },
     "execution_count": 11,
     "metadata": {},
     "output_type": "execute_result"
    }
   ],
   "source": [
    "fdist.most_common(25) # 25 most common words"
   ]
  },
  {
   "cell_type": "code",
   "execution_count": 35,
   "metadata": {
    "collapsed": false
   },
   "outputs": [
    {
     "name": "stdout",
     "output_type": "stream",
     "text": [
      "Majority in Leading EU Nations Support Trump-Style Travel Ban: Poll\n",
      "['Alastair Jamieson']\n",
      "https://media1.s-nbcnews.com/j/newscms/2017_06/1860461/ss-170110-migrants-serbia-winter-cr_01_2759cb78027ed04ab949ccd37eef72ba.nbcnews-fp-1200-800.jpg\n",
      "[]\n",
      "A majority of Europeans would support a Trump-style ban on further migration from mainly Muslim countries, according to a poll of more than 10,000 people in 10 countries.\n",
      "\n",
      "An average of 55 percent of those surveyed for London-based think tank, Chatham House, agreed that immigration from Muslim-majority countries should be halted.\n",
      "\n",
      "The poll released Tuesday comes after a bruising 18 months that have seen a string of terrorist massacres linked to radical Islam as well as record-setting levels of migration that have created social tensions across the continent.\n",
      "\n",
      "Migrants wait to receive free food during a snowfall outside a derelict customs warehouse in Belgrade, Serbia on Jan. 9, 2017. Marko Djurica / Reuters, file\n",
      "\n",
      "Majorities in all but two of the 10 countries polled supported a ban, ranging from 71 percent in Poland, to 53 percent in Germany, 47 percent in the United Kingdom and 41 percent in Spain. In no country did the percentage that disagreed surpass 32 percent.\n",
      "\n",
      "Chatham House called the findings \"striking and sobering\" and said in a news release that the figures \"suggest that public opposition to further migration from predominantly Muslim states is by no means confined to Trump's electorate.\"\n",
      "\n",
      "The poll, carried out before President Trump took office and implemented his executive order on immigration, also found that the issue crossed the political spectrum — three-quarters of respondents in support of a ban self-classified as right-wing and more than a third said they were left-leaning.\n",
      "\n",
      "Across 10 European countries an average of 55% agreed with the below statementhttps://t.co/QOwwwS2cAf pic.twitter.com/SGKCB0uUbT — Chatham House (@ChathamHouse) February 7, 2017\n",
      "\n",
      "'All further migration from mainly Muslim countries should be stopped'\n",
      "\n",
      "Agree:\n",
      "\n",
      "Poland 71%\n",
      "\n",
      "France 61%\n",
      "\n",
      "UK 47%https://t.co/QOwwwS2cAf pic.twitter.com/l9k4eg7I4J — Chatham House (@ChathamHouse) February 8, 2017\n",
      "\n",
      "Support for a ban is also higher among older Europeans than younger ones, and there's an educational divide: less than half of all college graduates supported further migration curbs.\n",
      "\n",
      "The Chatham House poll, conducted with Kantar Public, surveyed samples of over-18s in Austria, Belgium, France, Germany, Greece, Hungary, Italy, Poland, Spain and the U.K. Fieldwork was carried out between Dec. 12, 2016, and Jan. 11, 2017, and involved 10,195 respondents.\n",
      "\n",
      "PHOTOS: Stranded Migrants Brave Bitter Cold in Serbian Warehouses\n"
     ]
    }
   ],
   "source": [
    "from newspaper import Article\n",
    "\n",
    "url = 'http://bit.ly/2k4fvqgEUPoll'\n",
    "a = Article(url)\n",
    "a.download()\n",
    "a.parse()\n",
    "\n",
    "print(a.title)\n",
    "print(a.authors)\n",
    "print(a.top_image)\n",
    "print(a.movies)\n",
    "print(a.text)"
   ]
  },
  {
   "cell_type": "code",
   "execution_count": 37,
   "metadata": {
    "collapsed": false
   },
   "outputs": [
    {
     "name": "stdout",
     "output_type": "stream",
     "text": [
      "['majority', 'ban', 'trumpstyle', 'poll', 'muslim', 'countries', 'chatham', 'support', 'leading', 'eu', 'surveyed', 'migration', 'travel', 'supported', 'house', 'nations'] \n",
      "\n",
      "a majority of europeans would support a trump-style ban on further migration from mainly muslim countries, according to a poll of more than 10,000 people in 10 countries.\n",
      "an average of 55 percent of those surveyed for london-based think tank, chatham house, agreed that immigration from muslim-majority countries should be halted.\n",
      "migrants wait to receive free food during a snowfall outside a derelict customs warehouse in belgrade, serbia on jan. 9, 2017.\n",
      "chatham house called the findings \"striking and sobering\" and said in a news release that the figures \"suggest that public opposition to further migration from predominantly muslim states is by no means confined to trump's electorate.\"\n",
      "the chatham house poll, conducted with kantar public, surveyed samples of over-18s in austria, belgium, france, germany, greece, hungary, italy, poland, spain and the u.k. fieldwork was carried out between dec. 12, 2016, and jan. 11, 2017, and involved 10,195 respondents.\n"
     ]
    }
   ],
   "source": [
    "a.nlp()\n",
    "print(a.keywords, '\\n')\n",
    "print(a.summary)"
   ]
  },
  {
   "cell_type": "code",
   "execution_count": 67,
   "metadata": {
    "collapsed": false
   },
   "outputs": [
    {
     "name": "stdout",
     "output_type": "stream",
     "text": [
      "Displaying 3 of 3 matches:\n",
      "                           muslim countries , according to a\n",
      "gration from predominantly muslim states is by no means conf\n",
      "ther migration from mainly muslim countries should be stoppe\n"
     ]
    }
   ],
   "source": [
    "import nltk\n",
    "\n",
    "tokens = nltk.word_tokenize(a.text.lower())\n",
    "text = nltk.Text(tokens)\n",
    "\n",
    "text.concordance('muslim', width=60, lines=10)\n",
    "#print(tokens)"
   ]
  },
  {
   "cell_type": "code",
   "execution_count": 84,
   "metadata": {
    "collapsed": false
   },
   "outputs": [
    {
     "name": "stdout",
     "output_type": "stream",
     "text": [
      "muslim countries , according to a poll of more than 10,000 people in 10 countries \n",
      "\n",
      "news release that the figures `` suggest that public opposition to further migration from predominantly muslim states is by no means confined to trump 's electorate . '' the poll \n",
      "\n",
      "chatham house ( @ chathamhouse ) february 7 , 2017 'all further migration from mainly muslim countries should be stopped' agree : poland 71 % france 61 % uk 47 \n",
      "\n"
     ]
    }
   ],
   "source": [
    "ngram = 15\n",
    "c = nltk.ConcordanceIndex(tokens, key = lambda s: s.lower())\n",
    "concodances = [text.tokens[offset-ngram:offset+ngram] for offset in c.offsets('muslim') \n",
    "               if offset>=ngram and offset<len(text.tokens)-ngram]\n",
    "concordances = []\n",
    "for offset in c.offsets('muslim'):\n",
    "    if offset>=ngram and offset-ngram<len(text.tokens):\n",
    "        string = ' '.join( text.tokens[offset-ngram:offset+ngram] )\n",
    "        concordances.append(string)\n",
    "    elif offset<ngram and offset-ngram<len(text.tokens):\n",
    "        string = ' '.join( text.tokens[offset:offset+ngram] )\n",
    "        concordances.append(string)\n",
    "    elif offset>=ngram and offset-ngram>=len(text.tokens):\n",
    "        string = ' '.join( text.tokens[offset:offset] )\n",
    "        concordances.append(string)\n",
    "        \n",
    "for concordance in concordances:\n",
    "    print(concordance, '\\n')"
   ]
  },
  {
   "cell_type": "code",
   "execution_count": null,
   "metadata": {
    "collapsed": true
   },
   "outputs": [],
   "source": []
  }
 ],
 "metadata": {
  "kernelspec": {
   "display_name": "Python 3",
   "language": "python",
   "name": "python3"
  },
  "language_info": {
   "codemirror_mode": {
    "name": "ipython",
    "version": 3
   },
   "file_extension": ".py",
   "mimetype": "text/x-python",
   "name": "python",
   "nbconvert_exporter": "python",
   "pygments_lexer": "ipython3",
   "version": "3.6.0"
  }
 },
 "nbformat": 4,
 "nbformat_minor": 2
}
