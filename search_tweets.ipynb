{
 "cells": [
  {
   "cell_type": "code",
   "execution_count": 137,
   "metadata": {
    "collapsed": false
   },
   "outputs": [],
   "source": [
    "from datetime import datetime\n",
    "import pandas as pd"
   ]
  },
  {
   "cell_type": "code",
   "execution_count": 138,
   "metadata": {
    "collapsed": false,
    "scrolled": false
   },
   "outputs": [
    {
     "name": "stdout",
     "output_type": "stream",
     "text": [
      "(43789, 5)\n"
     ]
    },
    {
     "data": {
      "text/html": [
       "<div>\n",
       "<table border=\"1\" class=\"dataframe\">\n",
       "  <thead>\n",
       "    <tr style=\"text-align: right;\">\n",
       "      <th></th>\n",
       "      <th>user</th>\n",
       "      <th>datetime</th>\n",
       "      <th>text</th>\n",
       "      <th>id</th>\n",
       "      <th>entities</th>\n",
       "    </tr>\n",
       "  </thead>\n",
       "  <tbody>\n",
       "    <tr>\n",
       "      <th>0</th>\n",
       "      <td>realDonaldTrump</td>\n",
       "      <td>2015-01-07 21:42:11 UTC</td>\n",
       "      <td>Via @TheYBF: “@msvivicafox Attends A Private S...</td>\n",
       "      <td>552943302518272000</td>\n",
       "      <td>http://theybf.com/2015/01/06/the-apprentices-c...</td>\n",
       "    </tr>\n",
       "    <tr>\n",
       "      <th>1</th>\n",
       "      <td>realDonaldTrump</td>\n",
       "      <td>2015-01-07 21:55:38 UTC</td>\n",
       "      <td>My condolences and prayers to the victims of t...</td>\n",
       "      <td>552946688558907393</td>\n",
       "      <td>NaN</td>\n",
       "    </tr>\n",
       "  </tbody>\n",
       "</table>\n",
       "</div>"
      ],
      "text/plain": [
       "              user                 datetime  \\\n",
       "0  realDonaldTrump  2015-01-07 21:42:11 UTC   \n",
       "1  realDonaldTrump  2015-01-07 21:55:38 UTC   \n",
       "\n",
       "                                                text                  id  \\\n",
       "0  Via @TheYBF: “@msvivicafox Attends A Private S...  552943302518272000   \n",
       "1  My condolences and prayers to the victims of t...  552946688558907393   \n",
       "\n",
       "                                            entities  \n",
       "0  http://theybf.com/2015/01/06/the-apprentices-c...  \n",
       "1                                                NaN  "
      ]
     },
     "execution_count": 138,
     "metadata": {},
     "output_type": "execute_result"
    }
   ],
   "source": [
    "# INPUT                                                                                                                                     \n",
    "all_tweets = 'users/all_tweets.csv'                                                                                                                    \n",
    "df = pd.read_csv(all_tweets) \n",
    "print(df.shape)\n",
    "df.head(2)"
   ]
  },
  {
   "cell_type": "code",
   "execution_count": 139,
   "metadata": {
    "collapsed": false,
    "scrolled": false
   },
   "outputs": [],
   "source": [
    "pres = [\n",
    "    'realDonaldTrump', 'POTUS',\n",
    "]\n",
    "\n",
    "gov = [ \n",
    "    'WhiteHouse', 'PressSec', 'RudyGiuliani', 'StephenBannon', 'jeffsessions', 'KellyannePolls',      \n",
    "    'GenFlynn', \n",
    "]\n",
    "news = [\n",
    "    'NBCNews', 'CNN', 'cnnbrk', 'FoxNews', 'AP', 'nytimes', 'BreitbartNews', 'guardian',                           \n",
    "]\n",
    "\n",
    "\n",
    "#dayv['TDAYDATE'] = dayv['TDAYDATE'].apply(lambda x: datetime.strptime(str(x),'%Y-%m-%d %H:%M:%S'))\n",
    "def organize(df, users):\n",
    "    # get certain groups\n",
    "    df_new = df.copy()\n",
    "    df_new = df_new[ df_new['user'].isin(users) ]\n",
    "    \n",
    "    # reindex\n",
    "    df_new.index = range(df_new.shape[0])   \n",
    "    \n",
    "    # sort by date\n",
    "    df_new.values[:,1] = pd.to_datetime(df_new['datetime'], format='%Y-%m-%d %H:%M:%S %Z' )\n",
    "    #df_new['datetime'] = df_new['datetime'].apply(pd.to_datetime)\n",
    "    df_new = df_new.sort_values(by='datetime', ascending=False)\n",
    "    \n",
    "    # sort by user\n",
    "    df_n = pd.DataFrame()\n",
    "    for group_name, df_g in df_new.groupby(['user']):\n",
    "        df_n = df_n.append(df_g, ignore_index=True)\n",
    "    \n",
    "    # reindex\n",
    "    df_n.index = range(df_n.shape[0])\n",
    "    \n",
    "    return df_n\n",
    "\n",
    "df_pres = organize(df, pres)\n",
    "df_gov  = organize(df, gov)\n",
    "df_news = organize(df, news)"
   ]
  },
  {
   "cell_type": "code",
   "execution_count": 140,
   "metadata": {
    "collapsed": false,
    "scrolled": false
   },
   "outputs": [
    {
     "data": {
      "text/html": [
       "<div>\n",
       "<table border=\"1\" class=\"dataframe\">\n",
       "  <thead>\n",
       "    <tr style=\"text-align: right;\">\n",
       "      <th></th>\n",
       "      <th>user</th>\n",
       "      <th>datetime</th>\n",
       "      <th>text</th>\n",
       "      <th>id</th>\n",
       "      <th>entities</th>\n",
       "    </tr>\n",
       "  </thead>\n",
       "  <tbody>\n",
       "    <tr>\n",
       "      <th>0</th>\n",
       "      <td>POTUS</td>\n",
       "      <td>2017-03-01 02:41:32 UTC</td>\n",
       "      <td>Obamacare is collapsing – and we must act deci...</td>\n",
       "      <td>836768336163799040</td>\n",
       "      <td>NaN</td>\n",
       "    </tr>\n",
       "    <tr>\n",
       "      <th>1</th>\n",
       "      <td>POTUS</td>\n",
       "      <td>2017-03-01 02:31:45 UTC</td>\n",
       "      <td>My team is developing historic tax reform that...</td>\n",
       "      <td>836765872991633408</td>\n",
       "      <td>NaN</td>\n",
       "    </tr>\n",
       "    <tr>\n",
       "      <th>2</th>\n",
       "      <td>POTUS</td>\n",
       "      <td>2017-02-26 18:45:40 UTC</td>\n",
       "      <td>Russia talk is FAKE NEWS put out by the Dems, ...</td>\n",
       "      <td>835923804983603202</td>\n",
       "      <td>NaN</td>\n",
       "    </tr>\n",
       "  </tbody>\n",
       "</table>\n",
       "</div>"
      ],
      "text/plain": [
       "    user                 datetime  \\\n",
       "0  POTUS  2017-03-01 02:41:32 UTC   \n",
       "1  POTUS  2017-03-01 02:31:45 UTC   \n",
       "2  POTUS  2017-02-26 18:45:40 UTC   \n",
       "\n",
       "                                                text                  id  \\\n",
       "0  Obamacare is collapsing – and we must act deci...  836768336163799040   \n",
       "1  My team is developing historic tax reform that...  836765872991633408   \n",
       "2  Russia talk is FAKE NEWS put out by the Dems, ...  835923804983603202   \n",
       "\n",
       "  entities  \n",
       "0      NaN  \n",
       "1      NaN  \n",
       "2      NaN  "
      ]
     },
     "execution_count": 140,
     "metadata": {},
     "output_type": "execute_result"
    }
   ],
   "source": [
    "df_pres.head(3)"
   ]
  },
  {
   "cell_type": "markdown",
   "metadata": {},
   "source": [
    "# Selected Tweets"
   ]
  },
  {
   "cell_type": "code",
   "execution_count": 141,
   "metadata": {
    "collapsed": false,
    "scrolled": true
   },
   "outputs": [
    {
     "data": {
      "text/plain": [
       "'ban|islam|isis|mosque|muslim|radical|refugee|register|registry|religion|religious|terror'"
      ]
     },
     "execution_count": 141,
     "metadata": {},
     "output_type": "execute_result"
    }
   ],
   "source": [
    "keywords = ['ban', 'Islam', 'Islamic', 'ISIS', 'mosque', 'muslim', 'muslims', 'radical', 'refugee', \n",
    "            'register', 'registry', 'religion', 'religious', 'terror']\n",
    "\n",
    "keywords = ['ban', 'Islam', 'ISIS', 'mosque', 'muslim', 'radical', 'refugee', \n",
    "            'register', 'registry', 'religion', 'religious', 'terror']\n",
    "keywords = [k.lower() for k in keywords]\n",
    "pattern = '|'.join(keywords)\n",
    "pattern"
   ]
  },
  {
   "cell_type": "code",
   "execution_count": 142,
   "metadata": {
    "collapsed": false
   },
   "outputs": [
    {
     "name": "stdout",
     "output_type": "stream",
     "text": [
      "(234, 5)\n"
     ]
    },
    {
     "data": {
      "text/html": [
       "<div>\n",
       "<table border=\"1\" class=\"dataframe\">\n",
       "  <thead>\n",
       "    <tr style=\"text-align: right;\">\n",
       "      <th></th>\n",
       "      <th>user</th>\n",
       "      <th>datetime</th>\n",
       "      <th>text</th>\n",
       "      <th>id</th>\n",
       "      <th>entities</th>\n",
       "    </tr>\n",
       "  </thead>\n",
       "  <tbody>\n",
       "    <tr>\n",
       "      <th>0</th>\n",
       "      <td>POTUS</td>\n",
       "      <td>2017-01-29 01:32:12 UTC</td>\n",
       "      <td>Presidential Memorandum Plan to Defeat the Isl...</td>\n",
       "      <td>825516865271296000</td>\n",
       "      <td>https://www.whitehouse.gov/the-press-office/20...</td>\n",
       "    </tr>\n",
       "    <tr>\n",
       "      <th>1</th>\n",
       "      <td>realDonaldTrump</td>\n",
       "      <td>2017-02-12 11:55:10 UTC</td>\n",
       "      <td>72% of refugees admitted into U.S. (2/3 -2/11)...</td>\n",
       "      <td>830747067379232769</td>\n",
       "      <td>NaN</td>\n",
       "    </tr>\n",
       "    <tr>\n",
       "      <th>2</th>\n",
       "      <td>realDonaldTrump</td>\n",
       "      <td>2017-02-11 12:12:51 UTC</td>\n",
       "      <td>Our legal system is broken! \"77% of refugees a...</td>\n",
       "      <td>830389130311921667</td>\n",
       "      <td>NaN</td>\n",
       "    </tr>\n",
       "    <tr>\n",
       "      <th>3</th>\n",
       "      <td>realDonaldTrump</td>\n",
       "      <td>2017-02-08 21:46:14 UTC</td>\n",
       "      <td>'Majority in Leading EU Nations Support Trump-...</td>\n",
       "      <td>829446266111287305</td>\n",
       "      <td>http://bit.ly/2k4fvqgEUPoll</td>\n",
       "    </tr>\n",
       "    <tr>\n",
       "      <th>4</th>\n",
       "      <td>realDonaldTrump</td>\n",
       "      <td>2017-02-08 19:39:51 UTC</td>\n",
       "      <td>'Immigration Ban Is One Of Trump's Most Popula...</td>\n",
       "      <td>829414457126313986</td>\n",
       "      <td>NaN</td>\n",
       "    </tr>\n",
       "  </tbody>\n",
       "</table>\n",
       "</div>"
      ],
      "text/plain": [
       "              user                 datetime  \\\n",
       "0            POTUS  2017-01-29 01:32:12 UTC   \n",
       "1  realDonaldTrump  2017-02-12 11:55:10 UTC   \n",
       "2  realDonaldTrump  2017-02-11 12:12:51 UTC   \n",
       "3  realDonaldTrump  2017-02-08 21:46:14 UTC   \n",
       "4  realDonaldTrump  2017-02-08 19:39:51 UTC   \n",
       "\n",
       "                                                text                  id  \\\n",
       "0  Presidential Memorandum Plan to Defeat the Isl...  825516865271296000   \n",
       "1  72% of refugees admitted into U.S. (2/3 -2/11)...  830747067379232769   \n",
       "2  Our legal system is broken! \"77% of refugees a...  830389130311921667   \n",
       "3  'Majority in Leading EU Nations Support Trump-...  829446266111287305   \n",
       "4  'Immigration Ban Is One Of Trump's Most Popula...  829414457126313986   \n",
       "\n",
       "                                            entities  \n",
       "0  https://www.whitehouse.gov/the-press-office/20...  \n",
       "1                                                NaN  \n",
       "2                                                NaN  \n",
       "3                        http://bit.ly/2k4fvqgEUPoll  \n",
       "4                                                NaN  "
      ]
     },
     "execution_count": 142,
     "metadata": {},
     "output_type": "execute_result"
    }
   ],
   "source": [
    "# get certain groups\n",
    "df1 = df_pres[ df_pres.text.str.lower().str.contains(pattern) ]\n",
    "    \n",
    "# reindex\n",
    "df1.index = range(df1.shape[0])   \n",
    "\n",
    "print(df1.shape)\n",
    "df1.head(5)"
   ]
  },
  {
   "cell_type": "code",
   "execution_count": 143,
   "metadata": {
    "collapsed": false,
    "scrolled": true
   },
   "outputs": [
    {
     "name": "stdout",
     "output_type": "stream",
     "text": [
      "(120, 5)\n"
     ]
    },
    {
     "data": {
      "text/html": [
       "<div>\n",
       "<table border=\"1\" class=\"dataframe\">\n",
       "  <thead>\n",
       "    <tr style=\"text-align: right;\">\n",
       "      <th></th>\n",
       "      <th>user</th>\n",
       "      <th>datetime</th>\n",
       "      <th>text</th>\n",
       "      <th>id</th>\n",
       "      <th>entities</th>\n",
       "    </tr>\n",
       "  </thead>\n",
       "  <tbody>\n",
       "    <tr>\n",
       "      <th>0</th>\n",
       "      <td>GenFlynn</td>\n",
       "      <td>2016-11-06 03:28:40 UTC</td>\n",
       "      <td>This wasn't workplace violence. This was a rad...</td>\n",
       "      <td>795105595485523968</td>\n",
       "      <td>https://twitter.com/i/web/status/7951055954855...</td>\n",
       "    </tr>\n",
       "    <tr>\n",
       "      <th>1</th>\n",
       "      <td>GenFlynn</td>\n",
       "      <td>2016-11-02 21:52:23 UTC</td>\n",
       "      <td>After Mosul is liberated, ISIS could attack US...</td>\n",
       "      <td>793933801315561473</td>\n",
       "      <td>http://fxn.ws/2fFhvWL</td>\n",
       "    </tr>\n",
       "    <tr>\n",
       "      <th>2</th>\n",
       "      <td>GenFlynn</td>\n",
       "      <td>2016-10-04 23:41:10 UTC</td>\n",
       "      <td>Leaked FBI Data Reveal 7,700 Terrorist Encount...</td>\n",
       "      <td>783451928697057284</td>\n",
       "      <td>http://www.breitbart.com/texas/2016/09/26/leak...</td>\n",
       "    </tr>\n",
       "    <tr>\n",
       "      <th>3</th>\n",
       "      <td>GenFlynn</td>\n",
       "      <td>2016-09-30 18:17:29 UTC</td>\n",
       "      <td>Why #NotHillary -- Because ISIS spread on her ...</td>\n",
       "      <td>781920919681982464</td>\n",
       "      <td>https://twitter.com/TeamTrump/status/781892652...</td>\n",
       "    </tr>\n",
       "    <tr>\n",
       "      <th>4</th>\n",
       "      <td>GenFlynn</td>\n",
       "      <td>2016-09-24 02:54:48 UTC</td>\n",
       "      <td>@FieldofFight -- Obama and Hillary's Refusal t...</td>\n",
       "      <td>779514390441754625</td>\n",
       "      <td>http://www.breitbart.com/2016-presidential-rac...</td>\n",
       "    </tr>\n",
       "  </tbody>\n",
       "</table>\n",
       "</div>"
      ],
      "text/plain": [
       "       user                 datetime  \\\n",
       "0  GenFlynn  2016-11-06 03:28:40 UTC   \n",
       "1  GenFlynn  2016-11-02 21:52:23 UTC   \n",
       "2  GenFlynn  2016-10-04 23:41:10 UTC   \n",
       "3  GenFlynn  2016-09-30 18:17:29 UTC   \n",
       "4  GenFlynn  2016-09-24 02:54:48 UTC   \n",
       "\n",
       "                                                text                  id  \\\n",
       "0  This wasn't workplace violence. This was a rad...  795105595485523968   \n",
       "1  After Mosul is liberated, ISIS could attack US...  793933801315561473   \n",
       "2  Leaked FBI Data Reveal 7,700 Terrorist Encount...  783451928697057284   \n",
       "3  Why #NotHillary -- Because ISIS spread on her ...  781920919681982464   \n",
       "4  @FieldofFight -- Obama and Hillary's Refusal t...  779514390441754625   \n",
       "\n",
       "                                            entities  \n",
       "0  https://twitter.com/i/web/status/7951055954855...  \n",
       "1                              http://fxn.ws/2fFhvWL  \n",
       "2  http://www.breitbart.com/texas/2016/09/26/leak...  \n",
       "3  https://twitter.com/TeamTrump/status/781892652...  \n",
       "4  http://www.breitbart.com/2016-presidential-rac...  "
      ]
     },
     "execution_count": 143,
     "metadata": {},
     "output_type": "execute_result"
    }
   ],
   "source": [
    "# get certain groups\n",
    "df2 = df_gov[ df_gov.text.str.lower().str.contains(pattern) ]\n",
    "    \n",
    "# reindex\n",
    "df2.index = range(df2.shape[0])   \n",
    "\n",
    "print(df2.shape)\n",
    "df2.head(5)"
   ]
  },
  {
   "cell_type": "code",
   "execution_count": 144,
   "metadata": {
    "collapsed": false,
    "scrolled": true
   },
   "outputs": [
    {
     "name": "stdout",
     "output_type": "stream",
     "text": [
      "(26089, 5)\n"
     ]
    },
    {
     "data": {
      "text/html": [
       "<div>\n",
       "<table border=\"1\" class=\"dataframe\">\n",
       "  <thead>\n",
       "    <tr style=\"text-align: right;\">\n",
       "      <th></th>\n",
       "      <th>user</th>\n",
       "      <th>datetime</th>\n",
       "      <th>text</th>\n",
       "      <th>id</th>\n",
       "      <th>entities</th>\n",
       "    </tr>\n",
       "  </thead>\n",
       "  <tbody>\n",
       "    <tr>\n",
       "      <th>0</th>\n",
       "      <td>AP</td>\n",
       "      <td>2017-03-11 01:26:09 UTC</td>\n",
       "      <td>Turkey aims to repair its image in West by jus...</td>\n",
       "      <td>840373244360314880</td>\n",
       "      <td>http://apne.ws/2mtNN7E</td>\n",
       "    </tr>\n",
       "    <tr>\n",
       "      <th>1</th>\n",
       "      <td>AP</td>\n",
       "      <td>2017-03-10 23:27:02 UTC</td>\n",
       "      <td>Calif. man pleads guilty to stabbing US airman...</td>\n",
       "      <td>840343267921281024</td>\n",
       "      <td>http://apne.ws/2mc4u6o</td>\n",
       "    </tr>\n",
       "    <tr>\n",
       "      <th>2</th>\n",
       "      <td>AP</td>\n",
       "      <td>2017-03-10 06:30:12 UTC</td>\n",
       "      <td>VIDEO: Amal Clooney urges Iraq, world's nation...</td>\n",
       "      <td>840087372578471936</td>\n",
       "      <td>http://apne.ws/2lJGImj</td>\n",
       "    </tr>\n",
       "    <tr>\n",
       "      <th>3</th>\n",
       "      <td>AP</td>\n",
       "      <td>2017-03-10 05:30:05 UTC</td>\n",
       "      <td>Human rights lawyer Amal Clooney urges world's...</td>\n",
       "      <td>840072244323737600</td>\n",
       "      <td>http://apne.ws/2nckGFL</td>\n",
       "    </tr>\n",
       "    <tr>\n",
       "      <th>4</th>\n",
       "      <td>AP</td>\n",
       "      <td>2017-03-09 22:15:15 UTC</td>\n",
       "      <td>Congress probes Defense Department's troubled ...</td>\n",
       "      <td>839962816379518978</td>\n",
       "      <td>http://apne.ws/2n4TT1p</td>\n",
       "    </tr>\n",
       "  </tbody>\n",
       "</table>\n",
       "</div>"
      ],
      "text/plain": [
       "  user                 datetime  \\\n",
       "0   AP  2017-03-11 01:26:09 UTC   \n",
       "1   AP  2017-03-10 23:27:02 UTC   \n",
       "2   AP  2017-03-10 06:30:12 UTC   \n",
       "3   AP  2017-03-10 05:30:05 UTC   \n",
       "4   AP  2017-03-09 22:15:15 UTC   \n",
       "\n",
       "                                                text                  id  \\\n",
       "0  Turkey aims to repair its image in West by jus...  840373244360314880   \n",
       "1  Calif. man pleads guilty to stabbing US airman...  840343267921281024   \n",
       "2  VIDEO: Amal Clooney urges Iraq, world's nation...  840087372578471936   \n",
       "3  Human rights lawyer Amal Clooney urges world's...  840072244323737600   \n",
       "4  Congress probes Defense Department's troubled ...  839962816379518978   \n",
       "\n",
       "                 entities  \n",
       "0  http://apne.ws/2mtNN7E  \n",
       "1  http://apne.ws/2mc4u6o  \n",
       "2  http://apne.ws/2lJGImj  \n",
       "3  http://apne.ws/2nckGFL  \n",
       "4  http://apne.ws/2n4TT1p  "
      ]
     },
     "execution_count": 144,
     "metadata": {},
     "output_type": "execute_result"
    }
   ],
   "source": [
    "# get certain groups\n",
    "df3 = df_news[ df_news.text.str.lower().str.contains(pattern) ]\n",
    "    \n",
    "# reindex\n",
    "df3.index = range(df3.shape[0])   \n",
    "\n",
    "print(df3.shape)\n",
    "df3.head(5)"
   ]
  }
 ],
 "metadata": {
  "kernelspec": {
   "display_name": "Python 3",
   "language": "python",
   "name": "python3"
  },
  "language_info": {
   "codemirror_mode": {
    "name": "ipython",
    "version": 3
   },
   "file_extension": ".py",
   "mimetype": "text/x-python",
   "name": "python",
   "nbconvert_exporter": "python",
   "pygments_lexer": "ipython3",
   "version": "3.6.0"
  }
 },
 "nbformat": 4,
 "nbformat_minor": 2
}
